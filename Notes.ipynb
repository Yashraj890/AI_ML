{
 "cells": [
  {
   "cell_type": "markdown",
   "metadata": {},
   "source": [
    "# Notes"
   ]
  },
  {
   "cell_type": "markdown",
   "metadata": {},
   "source": [
    "=> Function is a first class citizen in Python"
   ]
  },
  {
   "cell_type": "markdown",
   "metadata": {},
   "source": [
    "=> Must not specify variable Type"
   ]
  },
  {
   "cell_type": "markdown",
   "metadata": {},
   "source": [
    "=> Type casting is supported whenever we need to have operations on two different types - Strong typing"
   ]
  },
  {
   "cell_type": "markdown",
   "metadata": {},
   "source": [
    "=> Python is case sensitive"
   ]
  },
  {
   "cell_type": "code",
   "execution_count": 5,
   "metadata": {},
   "outputs": [
    {
     "name": "stdout",
     "output_type": "stream",
     "text": [
      "yashraj's\n",
      "yashraj's\n"
     ]
    }
   ],
   "source": [
    "a = \"yashraj's\"\n",
    "print(a)\n",
    "b = 'yashraj\\'s'\n",
    "print(b)"
   ]
  },
  {
   "cell_type": "code",
   "execution_count": 8,
   "metadata": {},
   "outputs": [
    {
     "data": {
      "text/plain": [
       "1j"
      ]
     },
     "execution_count": 8,
     "metadata": {},
     "output_type": "execute_result"
    }
   ],
   "source": [
    "j = 'x'\n",
    "x = 1.0j #J is being used as a notation - no relation with variable j\n",
    "x"
   ]
  },
  {
   "cell_type": "code",
   "execution_count": 48,
   "metadata": {},
   "outputs": [
    {
     "name": "stdout",
     "output_type": "stream",
     "text": [
      "['xyzabc']\n",
      "9\n",
      "None\n",
      "y\n",
      "\n",
      "None\n",
      "y\n",
      "\n",
      "z\n",
      "\n",
      "None\n",
      "y\n",
      "\n",
      "z\n",
      "\n",
      "a\n",
      "\n",
      "None\n",
      "y\n",
      "\n",
      "z\n",
      "\n",
      "a\n",
      "\n",
      "b\n",
      "\n",
      "list exhausted\n",
      "3\n",
      "rock\n",
      "blues\n",
      "rock\n"
     ]
    }
   ],
   "source": [
    "sum = 'None'\n",
    "lst1 = list('xyzabcabc')\n",
    "lst = [\"xyzabc\"]\n",
    "print(lst)\n",
    "print(len(lst1))\n",
    "for var in lst1[1:5]:\n",
    "    if (var == 'c'):\n",
    "        print(\"loop not completed\")\n",
    "        break\n",
    "    #else:\n",
    "        #continue\n",
    "    var =  var + \"\\n\"\n",
    "    sum = sum + \"\\n\" + var\n",
    "    print(sum)\n",
    "else:\n",
    "    print('list exhausted')\n",
    "    \n",
    "genre = ['pop','rock','classical','blues']\n",
    "print(len(genre[0]))\n",
    "print(genre[1])\n",
    "for i in range(len(genre[i])-1, 0,-2):\n",
    "    print(genre[i])\n"
   ]
  },
  {
   "cell_type": "code",
   "execution_count": null,
   "metadata": {},
   "outputs": [],
   "source": []
  }
 ],
 "metadata": {
  "kernelspec": {
   "display_name": "Python 3",
   "language": "python",
   "name": "python3"
  },
  "language_info": {
   "codemirror_mode": {
    "name": "ipython",
    "version": 3
   },
   "file_extension": ".py",
   "mimetype": "text/x-python",
   "name": "python",
   "nbconvert_exporter": "python",
   "pygments_lexer": "ipython3",
   "version": "3.7.3"
  }
 },
 "nbformat": 4,
 "nbformat_minor": 2
}
