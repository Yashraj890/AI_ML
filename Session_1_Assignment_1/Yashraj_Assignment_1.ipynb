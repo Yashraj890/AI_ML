{
 "cells": [
  {
   "cell_type": "markdown",
   "metadata": {},
   "source": [
    "# Yashraj's Assignment 1"
   ]
  },
  {
   "attachments": {},
   "cell_type": "markdown",
   "metadata": {},
   "source": [
    "#### Task 1.1: Install Jupyter notebook and run the first program and share the screenshot of the output.\n",
    "https://github.com/Yashraj890/AI_ML/blob/master/Session_1_Assignment_1/Task_1.png"
   ]
  },
  {
   "cell_type": "markdown",
   "metadata": {},
   "source": [
    "#### Task 1.2: Write a program which will find all such numbers which are divisible by 7 but are not a multiple of 5, between 2000 and 3200 (both included). The numbers obtained should be printed in a comma-separated sequence on a single line."
   ]
  },
  {
   "cell_type": "code",
   "execution_count": 24,
   "metadata": {},
   "outputs": [
    {
     "name": "stdout",
     "output_type": "stream",
     "text": [
      "2002,2009,2016,2023,2037,2044,2051,2058,2072,2079,2086,2093,2107,2114,2121,2128,2142,2149,2156,2163,2177,2184,2191,2198,2212,2219,2226,2233,2247,2254,2261,2268,2282,2289,2296,2303,2317,2324,2331,2338,2352,2359,2366,2373,2387,2394,2401,2408,2422,2429,2436,2443,2457,2464,2471,2478,2492,2499,2506,2513,2527,2534,2541,2548,2562,2569,2576,2583,2597,2604,2611,2618,2632,2639,2646,2653,2667,2674,2681,2688,2702,2709,2716,2723,2737,2744,2751,2758,2772,2779,2786,2793,2807,2814,2821,2828,2842,2849,2856,2863,2877,2884,2891,2898,2912,2919,2926,2933,2947,2954,2961,2968,2982,2989,2996,3003,3017,3024,3031,3038,3052,3059,3066,3073,3087,3094,3101,3108,3122,3129,3136,3143,3157,3164,3171,3178,3192,3199\n"
     ]
    }
   ],
   "source": [
    "lst = [] #list variable to hold the list of numbers in string format\n",
    "for num in range(2000, 3200 + 1): # iterate numbers starting from 2000 to 3200\n",
    "    if (num % 7 == 0 and num % 5 != 0): # check if the number is divisble by 7 and is multiple of 5\n",
    "        lst.append(str(num)) # Append the current iterating number to list\n",
    "print (','.join(lst)) # print the list separated with comma"
   ]
  },
  {
   "cell_type": "markdown",
   "metadata": {},
   "source": [
    "#### Task 1.3 Write a Python program to accept the user's first and last name and then getting them printed in the the reverse order with a space between first name and last name."
   ]
  },
  {
   "cell_type": "code",
   "execution_count": 10,
   "metadata": {},
   "outputs": [
    {
     "name": "stdout",
     "output_type": "stream",
     "text": [
      "Please enter your first name: Yashraj\n",
      "Please enter your last name: Ekbote\n",
      "etobkE jarhsaY\n"
     ]
    }
   ],
   "source": [
    "firstName = input(\"Please enter your first name: \") # Accept first name\n",
    "lastName  = input(\"Please enter your last name: \") # Accept last name\n",
    "print ((firstName + ' ' + lastName)[::-1]) # print first & last name in reverse order"
   ]
  },
  {
   "cell_type": "markdown",
   "metadata": {},
   "source": [
    "#### Task 1.4: Write a Python program to find the volume of a sphere with diameter 12 cm. Formula: V=4/3 * π * r3"
   ]
  },
  {
   "cell_type": "code",
   "execution_count": 13,
   "metadata": {},
   "outputs": [
    {
     "name": "stdout",
     "output_type": "stream",
     "text": [
      "volume of a sphere with diameter 12 cm is 904.7786842338603 cm\n"
     ]
    }
   ],
   "source": [
    "import math # imported math lib for usage of PI and POW in-built functions\n",
    "diameter = 12 # setting up the diameter\n",
    "radius = diameter / 2 # setting up radius as diameter divide by 2\n",
    "volume = (4/3) * math.pi * math.pow(radius, 3) # calculating the volume of sphere\n",
    "prntstr = \"volume of a sphere with diameter {} cm is {} cm\"\n",
    "print (prntstr.format(str(diameter), str(volume))) # printing the volume of sphere using the in-built function \"format\""
   ]
  },
  {
   "cell_type": "markdown",
   "metadata": {},
   "source": [
    "#### Task 2.1: Write a program which accepts a sequence of comma-separated numbers from console and generate a list."
   ]
  },
  {
   "cell_type": "code",
   "execution_count": 1,
   "metadata": {},
   "outputs": [
    {
     "name": "stdout",
     "output_type": "stream",
     "text": [
      "Please enter comma separated number: 123,1,222,3323,\n",
      "[123, 1, 222, 3323]\n"
     ]
    }
   ],
   "source": [
    "numbers = input(\"Please enter comma separated number: \") # Accept comma separated numbers\n",
    "numbers = numbers.strip(',') # sanitize - utilize in-built function \"strip\" remove the leading & trailing commas\n",
    "# utilize split in-build function \"split\" to convert the string of numbers separated by comma into numerical list\n",
    "numlst = [int(num) for num in numbers.split(\",\")] \n",
    "print (numlst) # print the list"
   ]
  },
  {
   "cell_type": "markdown",
   "metadata": {},
   "source": [
    "#### Task 2.2: Create the below pattern using nested for loop in Python."
   ]
  },
  {
   "cell_type": "code",
   "execution_count": 29,
   "metadata": {},
   "outputs": [
    {
     "name": "stdout",
     "output_type": "stream",
     "text": [
      "*\n",
      "**\n",
      "***\n",
      "****\n",
      "*****\n",
      "****\n",
      "***\n",
      "**\n",
      "*\n",
      "\n"
     ]
    }
   ],
   "source": [
    "noOfRows = 10 # Total rows to be printed\n",
    "for row in range(1, (noOfRows + 1), 1): # Row loop\n",
    "    if (row > (noOfRows / 2)): # check if we have traversed half # of rows?\n",
    "        row = noOfRows - row   # deduct current row count from total row count \n",
    "    for col in range(1, (row + 1), 1): # Column loop\n",
    "        print(\"*\", end = '') # print pattern character\n",
    "    print(\"\") # line break"
   ]
  },
  {
   "cell_type": "markdown",
   "metadata": {},
   "source": [
    "#### Task 2.3: Write a Python program to reverse a word after accepting the input from the user."
   ]
  },
  {
   "cell_type": "code",
   "execution_count": 2,
   "metadata": {},
   "outputs": [
    {
     "name": "stdout",
     "output_type": "stream",
     "text": [
      "Please enter a word: Yashraj\n",
      "jarhsaY\n"
     ]
    }
   ],
   "source": [
    "wordToReverse = input (\"Please enter a word: \") # Accept word to be reversed\n",
    "print (wordToReverse[::-1]) # print the reversed word"
   ]
  },
  {
   "cell_type": "markdown",
   "metadata": {},
   "source": [
    "#### Task 2.4: Write a Python Program to print the given string in the format specified in the sample output.\n",
    "WE, THE PEOPLE OF INDIA, having solemnly resolved to constitute India into a\n",
    "SOVEREIGN, SOCIALIST, SECULAR, DEMOCRATIC REPUBLIC and to secure to all\n",
    "its citizens"
   ]
  },
  {
   "cell_type": "code",
   "execution_count": 12,
   "metadata": {},
   "outputs": [
    {
     "name": "stdout",
     "output_type": "stream",
     "text": [
      "WE, THE PEOPLE OF INDIA,\n",
      "\thaving solemnly resolved to constitute India into a SOVEREIGN, !\n",
      "\t\tSOCIALIST, SECULAR, DEMOCRATIC REPUBLIC \n",
      "\t\t and to secure to all its citizens\n"
     ]
    }
   ],
   "source": [
    "prntstr = \"WE, THE PEOPLE OF INDIA,{}having solemnly resolved to constitute India into a SOVEREIGN, {}SOCIALIST, SECULAR, DEMOCRATIC REPUBLIC {} and to secure to all its citizens\"\n",
    "print (prntstr.format(\"\\n\\t\", \"!\\n\\t\\t\", \"\\n\\t\\t\"))"
   ]
  }
 ],
 "metadata": {
  "kernelspec": {
   "display_name": "Python 3",
   "language": "python",
   "name": "python3"
  },
  "language_info": {
   "codemirror_mode": {
    "name": "ipython",
    "version": 3
   },
   "file_extension": ".py",
   "mimetype": "text/x-python",
   "name": "python",
   "nbconvert_exporter": "python",
   "pygments_lexer": "ipython3",
   "version": "3.7.3"
  }
 },
 "nbformat": 4,
 "nbformat_minor": 2
}
